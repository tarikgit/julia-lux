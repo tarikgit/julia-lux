{
 "cells": [
  {
   "cell_type": "code",
   "execution_count": 31,
   "metadata": {},
   "outputs": [
    {
     "data": {
      "image/png": "[encoded data removed]",
      "text/plain": [
       "567×425 Array{RGBA{N0f8},2} with eltype RGBA{Normed{UInt8,8}}:\n",
       " RGBA{N0f8}(0.992,0.996,0.992,0.0)  …  RGBA{N0f8}(0.992,0.996,0.992,0.0)\n",
       " RGBA{N0f8}(0.992,0.996,0.992,0.0)     RGBA{N0f8}(0.992,0.996,0.992,0.0)\n",
       " RGBA{N0f8}(0.992,0.996,0.992,0.0)     RGBA{N0f8}(0.992,0.996,0.992,0.0)\n",
       " RGBA{N0f8}(0.992,0.996,0.992,0.0)     RGBA{N0f8}(0.992,0.996,0.992,0.0)\n",
       " RGBA{N0f8}(0.992,0.996,0.992,0.0)     RGBA{N0f8}(0.992,0.996,0.992,0.0)\n",
       " RGBA{N0f8}(0.992,0.996,0.992,0.0)  …  RGBA{N0f8}(0.992,0.996,0.992,0.0)\n",
       " RGBA{N0f8}(0.992,0.996,0.992,0.0)     RGBA{N0f8}(0.992,0.996,0.992,0.0)\n",
       " RGBA{N0f8}(0.992,0.996,0.992,0.0)     RGBA{N0f8}(0.992,0.996,0.992,0.0)\n",
       " RGBA{N0f8}(0.992,0.996,0.992,0.0)     RGBA{N0f8}(0.992,0.996,0.992,0.0)\n",
       " RGBA{N0f8}(0.992,0.996,0.992,0.0)     RGBA{N0f8}(0.992,0.996,0.992,0.0)\n",
       " RGBA{N0f8}(0.992,0.996,0.992,0.0)  …  RGBA{N0f8}(0.992,0.996,0.992,0.0)\n",
       " RGBA{N0f8}(0.992,0.996,0.992,0.0)     RGBA{N0f8}(0.992,0.996,0.992,0.0)\n",
       " RGBA{N0f8}(0.992,0.996,0.992,0.0)     RGBA{N0f8}(0.992,0.996,0.992,0.0)\n",
       " ⋮                                  ⋱  \n",
       " RGBA{N0f8}(0.992,0.996,0.992,0.0)  …  RGBA{N0f8}(0.992,0.996,0.992,0.0)\n",
       " RGBA{N0f8}(0.992,0.996,0.992,0.0)     RGBA{N0f8}(0.992,0.996,0.992,0.0)\n",
       " RGBA{N0f8}(0.992,0.996,0.992,0.0)     RGBA{N0f8}(0.992,0.996,0.992,0.0)\n",
       " RGBA{N0f8}(0.992,0.996,0.992,0.0)     RGBA{N0f8}(0.992,0.996,0.992,0.0)\n",
       " RGBA{N0f8}(0.992,0.996,0.992,0.0)     RGBA{N0f8}(0.992,0.996,0.992,0.0)\n",
       " RGBA{N0f8}(0.992,0.996,0.992,0.0)  …  RGBA{N0f8}(0.992,0.996,0.992,0.0)\n",
       " RGBA{N0f8}(0.992,0.996,0.992,0.0)     RGBA{N0f8}(0.992,0.996,0.992,0.0)\n",
       " RGBA{N0f8}(0.992,0.996,0.992,0.0)     RGBA{N0f8}(0.992,0.996,0.992,0.0)\n",
       " RGBA{N0f8}(0.992,0.996,0.992,0.0)     RGBA{N0f8}(0.992,0.996,0.992,0.0)\n",
       " RGBA{N0f8}(0.992,0.996,0.992,0.0)     RGBA{N0f8}(0.992,0.996,0.992,0.0)\n",
       " RGBA{N0f8}(0.992,0.996,0.992,0.0)  …  RGBA{N0f8}(0.992,0.996,0.992,0.0)\n",
       " RGBA{N0f8}(0.992,0.996,0.992,0.0)     RGBA{N0f8}(0.992,0.996,0.992,0.0)"
      ]
     },
     "execution_count": 31,
     "metadata": {},
     "output_type": "execute_result"
    }
   ],
   "source": [
    "# https://influenza.rki.de/Maps/2019_2020/2019-40.png\n",
    "using ImageMagick\n",
    "img = load(\"https://influenza.rki.de/Maps/2019_2020/2019-40.png\")"
   ]
  },
  {
   "cell_type": "code",
   "execution_count": 5,
   "metadata": {},
   "outputs": [
    {
     "data": {
      "text/plain": [
       "\"567×425 Array{RGBA{N0f8},2} with eltype RGBA{Normed{UInt8,8}}\""
      ]
     },
     "execution_count": 5,
     "metadata": {},
     "output_type": "execute_result"
    }
   ],
   "source": [
    "summary(img)"
   ]
  },
  {
   "cell_type": "code",
   "execution_count": 12,
   "metadata": {},
   "outputs": [
    {
     "data": {
      "text/plain": [
       "(567, 425)"
      ]
     },
     "execution_count": 12,
     "metadata": {},
     "output_type": "execute_result"
    }
   ],
   "source": [
    "size(img)"
   ]
  },
  {
   "cell_type": "code",
   "execution_count": 27,
   "metadata": {},
   "outputs": [
    {
     "data": {
      "text/plain": [
       "RGBA{Normed{UInt8,8}}"
      ]
     },
     "execution_count": 27,
     "metadata": {},
     "output_type": "execute_result"
    }
   ],
   "source": [
    "typeof(img[200,200])"
   ]
  },
  {
   "cell_type": "code",
   "execution_count": 28,
   "metadata": {},
   "outputs": [
    {
     "data": {
      "image/svg+xml": [
       "<?xml version=\"1.0\" encoding=\"UTF-8\"?>\n",
       "<!DOCTYPE svg PUBLIC \"-//W3C//DTD SVG 1.1//EN\"\n",
       " \"http://www.w3.org/Graphics/SVG/1.1/DTD/svg11.dtd\">\n",
       "<svg xmlns=\"http://www.w3.org/2000/svg\" version=\"1.1\"\n",
       "     width=\"25mm\" height=\"25mm\" viewBox=\"0 0 1 1\" stroke=\"none\"\n",
       "     preserveAspectRatio=\"none\" shape-rendering=\"crispEdges\">\n",
       "<defs>\n",
       "    <pattern id=\"pat_4ARdZh\" width=\".2\" height=\".2\"\n",
       "             patternUnits=\"userSpaceOnUse\" >\n",
       "        <path d=\"M.1,0h.1v.1h-.2v.1h.1z\" fill=\"#999\" opacity=\".5\" />\n",
       "    </pattern>\n",
       "</defs>\n",
       "<rect width=\"1\" height=\"1\" fill=\"url(#pat_4ARdZh)\" />\n",
       "<path d=\"M1,0v1h-1z\" fill=\"#0012FF\" />\n",
       "<path d=\"M0,0h1v1h-1z\" fill=\"#0012FF\" fill-opacity=\"1\" />\n",
       "</svg>"
      ],
      "text/plain": [
       "RGBA{Float32}(0.0f0,0.07058824f0,1.0f0,1.0f0)"
      ]
     },
     "execution_count": 28,
     "metadata": {},
     "output_type": "execute_result"
    }
   ],
   "source": [
    "float(img[200,200])"
   ]
  },
  {
   "cell_type": "code",
   "execution_count": 30,
   "metadata": {},
   "outputs": [
    {
     "ename": "MethodError",
     "evalue": "MethodError: no method matching supertype(::RGBA{Normed{UInt8,8}})\nClosest candidates are:\n  supertype(!Matched::DataType) at operators.jl:44\n  supertype(!Matched::UnionAll) at operators.jl:49",
     "output_type": "error",
     "traceback": [
      "MethodError: no method matching supertype(::RGBA{Normed{UInt8,8}})\nClosest candidates are:\n  supertype(!Matched::DataType) at operators.jl:44\n  supertype(!Matched::UnionAll) at operators.jl:49",
      "",
      "Stacktrace:",
      " [1] top-level scope at In[30]:1"
     ]
    }
   ],
   "source": [
    "supertype(img[200,200])"
   ]
  },
  {
   "cell_type": "code",
   "execution_count": null,
   "metadata": {},
   "outputs": [],
   "source": []
  }
 ],
 "metadata": {
  "kernelspec": {
   "display_name": "Julia 1.4.0",
   "language": "julia",
   "name": "julia-1.4"
  },
  "language_info": {
   "file_extension": ".jl",
   "mimetype": "application/julia",
   "name": "julia",
   "version": "1.4.0"
  }
 },
 "nbformat": 4,
 "nbformat_minor": 4
}
