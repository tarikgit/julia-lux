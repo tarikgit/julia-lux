{
 "cells": [
  {
   "cell_type": "code",
   "execution_count": null,
   "metadata": {},
   "outputs": [],
   "source": [
    "function linspace(grid_min, grid_max, gridpoints)\n",
    "    # Emulates the linspace function, which is not available\n",
    "    # for some reason\n",
    "    # tarikocaktan@gmail.com - 4/11/2018\n",
    "    x = zeros(gridpoints,1)\n",
    "    for idxI = 2:gridpoints\n",
    "        x[idxI] = x[idxI-1]+(grid_max-grid_min)/(gridpoints-1)\n",
    "    end\n",
    "\n",
    "    # Return new_π when in [π_min, π_max] and else end points\n",
    "    return x\n",
    "end"
   ]
  }
 ],
 "metadata": {
  "kernelspec": {
   "display_name": "Julia 1.0.1",
   "language": "julia",
   "name": "julia-1.0"
  },
  "language_info": {
   "file_extension": ".jl",
   "mimetype": "application/julia",
   "name": "julia",
   "version": "1.0.1"
  }
 },
 "nbformat": 4,
 "nbformat_minor": 2
}
